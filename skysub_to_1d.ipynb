{
 "cells": [
  {
   "cell_type": "markdown",
   "metadata": {
    "toc": true
   },
   "source": [
    "<h1>Table of Contents<span class=\"tocSkip\"></span></h1>\n",
    "<div class=\"toc\"><ul class=\"toc-item\"></ul></div>"
   ]
  },
  {
   "cell_type": "code",
   "execution_count": null,
   "metadata": {},
   "outputs": [],
   "source": [
    "%pylab nbagg\n",
    "from astropy.io import fits\n",
    "from astropy.table import Table\n",
    "\n",
    "from IPython.core.display import display, HTML\n",
    "display(HTML(\"<style>.container { width:90% !important; }</style>\"))"
   ]
  },
  {
   "cell_type": "code",
   "execution_count": null,
   "metadata": {},
   "outputs": [],
   "source": [
    "ifile = 'Results/Reticulum_config2_epoch1_SCIENCE_RBNSPECTRA.fits' # input file\n",
    "odir = 'flames_1dspec/' # output directory\n",
    "\n",
    "# this loads the fits file\n",
    "hdu = fits.open(ifile)\n",
    "\n",
    "# here we see the structure\n",
    "hdu.info()"
   ]
  },
  {
   "cell_type": "code",
   "execution_count": null,
   "metadata": {},
   "outputs": [],
   "source": [
    "# read table\n",
    "t = Table.read(ifile)\n",
    "\n",
    "# wavelenght\n",
    "ext=0 \n",
    "crval = hdu[ext].header['crval2']\n",
    "cdelt = hdu[ext].header['cdelt2']\n",
    "naxis = hdu[ext].header['naxis2']\n",
    "\n",
    "wl = crval+cdelt*np.arange(naxis)\n",
    "\n",
    "#other relevant keywords\n",
    "cunit = hdu[ext].header['cunit2']\n",
    "mjd = hdu[ext].header['MJD-OBS']\n",
    "bunit = hdu[ext].header['bunit']\n",
    "exptime = hdu[ext].header['exptime']\n",
    "\n",
    "# iterate over all fiber spectra\n",
    "for i in range(hdu[3].data.shape[1]):\n",
    "    \n",
    "    #create a new hdu object with sky sub. spec. of fiber i\n",
    "    _hdu = fits.PrimaryHDU(hdu[3].data[:,i])\n",
    "    \n",
    "    #add header info\n",
    "    _hdu.header['crval1'] = crval\n",
    "    _hdu.header['cdelt1'] = cdelt\n",
    "    _hdu.header['cunit1'] = cunit\n",
    "    \n",
    "    _hdu.header['bunit'] = bunit\n",
    "    _hdu.header['object'] = t['OBJECT'][i]\n",
    "    _hdu.header['ra'] = t['RA'][i]\n",
    "    _hdu.header['dec'] = t['DEC'][i]\n",
    "    _hdu.header['mag'] = np.round(t['MAGNITUDE'][i],3)\n",
    "    _hdu.header['MJD-OBS'] = mjd\n",
    "    _hdu.header['EXPTIME'] = exptime \n",
    "    \n",
    "    header = _hdu.header\n",
    "    header.comments['crval1'] = 'value of ref pixel'\n",
    "    header.comments['cdelt1'] = 'Binning factor'\n",
    "    header.comments['naxis1'] = 'length of data axis 1'\n",
    "    header.comments['exptime'] = 'Total integration time'\n",
    "    header.comments['mjd-obs'] = 'MJD start'\n",
    "    \n",
    "    #write file\n",
    "    ofile = '{:}.fits'.format(t['OBJECT'][i].strip())\n",
    "    print('writing: {:}'.format(odir+ofile))\n",
    "    _hdu.writeto(odir+ofile,overwrite=True)\n",
    "    \n",
    "#     break"
   ]
  },
  {
   "cell_type": "code",
   "execution_count": null,
   "metadata": {},
   "outputs": [],
   "source": []
  }
 ],
 "metadata": {
  "kernelspec": {
   "display_name": "Python 3",
   "language": "python",
   "name": "python3"
  },
  "language_info": {
   "codemirror_mode": {
    "name": "ipython",
    "version": 3
   },
   "file_extension": ".py",
   "mimetype": "text/x-python",
   "name": "python",
   "nbconvert_exporter": "python",
   "pygments_lexer": "ipython3",
   "version": "3.7.3"
  },
  "toc": {
   "base_numbering": 1,
   "nav_menu": {},
   "number_sections": true,
   "sideBar": true,
   "skip_h1_title": false,
   "title_cell": "Table of Contents",
   "title_sidebar": "Contents",
   "toc_cell": true,
   "toc_position": {
    "height": "calc(100% - 180px)",
    "left": "10px",
    "top": "150px",
    "width": "165px"
   },
   "toc_section_display": true,
   "toc_window_display": true
  }
 },
 "nbformat": 4,
 "nbformat_minor": 4
}
